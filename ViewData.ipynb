{
 "cells": [
  {
   "cell_type": "code",
   "execution_count": 1,
   "metadata": {},
   "outputs": [],
   "source": [
    "import bz2"
   ]
  },
  {
   "cell_type": "code",
   "execution_count": 10,
   "metadata": {},
   "outputs": [],
   "source": [
    "file = 'train-balanced.csv.bz2'    \n",
    "\n",
    "def getData():\n",
    "    with bz2.BZ2File(file, \"r\") as bzfin:\n",
    "        for i, line in enumerate(bzfin):\n",
    "            if i == 100:\n",
    "                break\n",
    "            label, comment, author = line.decode('utf-8').split('\\t')[0:3]\n",
    "            yield label, comment, author"
   ]
  },
  {
   "cell_type": "code",
   "execution_count": 11,
   "metadata": {},
   "outputs": [],
   "source": [
    "def getUserDict():\n",
    "    from collections import defaultdict\n",
    "    users = defaultdict(list)\n",
    "    for i in list(getData()):\n",
    "        users[i[2]].append((i[1], i[0]))\n",
    "    return users"
   ]
  },
  {
   "cell_type": "code",
   "execution_count": 12,
   "metadata": {},
   "outputs": [
    {
     "name": "stdout",
     "output_type": "stream",
     "text": [
      "{'What_I_Thought': [('I highly doubt this mostly ignored, surely unsuccessful and small bananas effort is going to change minds that have been made up by 100 years of grievous voting obstruction, especially with the current big news of the supreme Court striking down all the various racist partisan voter restrictions around the country.', '0')], 'Quinnjester': [('Holy shit they are dropping an Halloween surprise.', '0')], 'TrumpsMonkeyPaw': [('Chafetz is a known liar (see PP vids) why does he get a pass?', '0')], 'Ginsengstrip_2002': [('Kansas Number 1 in imaginary Muslim terrorists and number 1 in real Nazi terrorists', '0')], 'pb2crazy': [('\"wow it is totally unreasonable to assume that the agency that covered up Bush war crimes because \"\"muh republican party\"\" would be partisan as fuck\"', '1'), (\"Ho ho ho... But Melania said that there is no way it could have happened because she didn't know the woman!\", '1'), ('Tbh you are right, Israel is so Western that I forgot it was also in the same area!', '0')], 'LordoftheScheisse': [('Like this: \\\\ /', '0')], 'apolitic': [(\"Too bad all the women who don't have kids are just locked out of the most important job a woman could have!\", '0')], 'kitduncan': [(\"I can't wait until @potus starts a twitter war against Morning Joe.\", '1')], 'Galle_': [('Uh, HRC *did* toast Trump in the debates.', '0')], 'fapsandnaps': [('Upvoters didnt show up in swing threads.', '0')], 'alaska1415': [('So we be better than them.', '0')], 'row_guy': [('Brace yourself.', '0')], 'xjayroox': [('\"To be fair, Trump is having the exact same issue with \"\"values voters\"\" and traditional republicans so it may end up being a wash come November\"', '0')], 'grumbledore_': [('There is no place in our society for this.', '0')], 'Rustyastro': [(\"How do you know he's white?\", '0')], 'getridofappleskitle': [('yeah, like the president is a big deal!', '1')], 'spacelincoln': [(\"Chris Christie is just upset that Donald didn't even buy him breakfast the next morning.\", '0')], 'NicktheNamed': [('aw, CNBCs got jokes', '0')], 'bassististist': [(\"But we elected a billionaire, and he was gonna stop all the billionaires from... We're fucking morons, aren't we?\", '0')], 'Shr3kk_Wpg': [(\"To be fair, a President making business deals from the Oval Office wouldn't be fair to the American people.\", '0')], 'ScienceBreathingDrgn': [('Hahaha, no worries :)', '0')], 'the_jak': [('Dish sponges, latex gloves, and lube', '0')], 'treehuggerguy': [('Investigation and house cleaning', '0')], 'CornCobbDouglas': [(\"Well I don't disagree, but what does Ben Carson matter to that?\", '0'), ('Certainly not as honorable as Lewandowski and Manfarts.', '0'), (\"I'd say wise diplomacy includes when to wield the stick as well as the olive branch.\", '0'), ('Trump has always been a self parody going back to the mid 80s when he realized he was a failure at business but liked the attention.', '0')], 'ballstein': [(\"He could have a dead hooker in his penthouse and he wouldn't resign.\", '0')], 'limited8': [('\"Breitbart and The Daily Caller are the \"\"major networks\"\" to The_Donald.\"', '0')], 'sleaze_bag_alert': [(\"It is only mental illness if they don't literally support and admire what these people are doing...which they do.\", '0'), ('Usually an ass turkey too', '0'), ('Shhh dont interrupt his faux self righteous circle jerk', '0')], 'actuallycallie': [('ugh ugh ugh ugh God forbid.', '0')], 'equanimityone': [('Yes, because putting an old women in jail will fix our problems.', '1')], '1LT_Obvious': [('He was setting out bait for Trump, who ate it right up.', '0')], 'turtledan87': [('Damn, I could have sworn this Washington Post article says he won.', '0')], 'CaptainUltimate28': [('That sounds like a difference without a distinction to me.', '0')], 'Softengsam': [('*applause*', '0')], 'JustGotOffOfTheTrain': [(\"Is this another article complaining that Barack Obama didn't literally fix every problem?\", '0')], 'FredFredrickson': [('She should just get out of the way so the spoiled, corrupt, tax-dodging, draft-dodging, groping, lying, alleged child rapist can be president.', '1')], 'SultanObama': [(\"I don't think it works that way.\", '0')], 'JumpingJazzJam': [('Comey used his Office to tilt the vote to Republicans.', '0')], 'navikredstar': [('Their hundred trillion dollar bills are fun novelty gifts to a lot of people, though.', '0')], 'markpas': [(\"Up until now I would have thought so but now I'm beginning to think it's getting more stupid faster than it's getting more liberal.\", '0')], 'Jimbob0i0': [('And at least one person willing to show up there with an AR-15 and fire it in the restaurant.', '0')], 'GenericKen': [(\"Well it is the water, but it's also the shady-ass corruption.\", '0')], 'the_che': [(\"That's because Democrats actually want to help the country.\", '0')], 'sicilianthemusical': [('He said he was open to the VP spot on either ticket.', '0')], 'ReynardMiri': [('Including at the expense of profit.', '0')], 'NemWan': [(\"It's more like a public or private sales pitch.\", '0'), (\"Not talking about it won't make people want to change the EC.\", '0')], 'gamechanger55': [('Again...You missed the part where democrats killed public option without any help from republicans.', '0')], 'NebraskaGunOwner': [(\"These emails all originated from Capricia Penavic Marshall's account and were released on DCLeaks.\", '0')], 'Hee443TS': [('I think that is the case for like 10 states only.', '0')], 'bijan4187': [('Assange hasnt done anything for anyone to pardon him for.', '0')], 'Tarquin_Underspoon': [(\"That's how he's bringing jobs back to America!\", '1')], 'Old_Army90': [(\"I don't know about many, but there are certainly a handful.\", '0')], 'GaryRuppert': [('Sorta like how she made the speech in Reno on Trump supporters and her support cratered?', '0')], 'IcecreamDave': [(\"It's private property.\", '0')], 'macosxsealion': [('I dare you to willfully feed a Muslim - and not give him/her the bill.', '0')], 'Misanthraloperer': [('bigly, badly', '0')], 'thatgamerguy': [('Cold war is over guys, we can calm down on this arbitrary red-scare shit.', '0')], 'Kaiosama': [('Cringelord... ooh, you got him!', '1')], 'Whyeth': [('Even a broken clockwork elf is right twice a lizard man day or something.', '0')], 'wstsdr': [('\"Trump is so lucky his supporters have ZERO critical thinking ability (it\\'s almost impossible to \"\"rig\"\" an election if you think it through).\"', '0')], 'iamthechosenpun': [(\"Evolution didn't do it, God did\", '1')], 'GeorgeXKennan': [(\"She's not a Senator.\", '0')], 'aniseikonia': [('She enjoyed it!', '1')], 'BearFashionAddict': [(\"I'm sure she doesn't have any influence\", '1')], 'HumptyMcDumpty': [('says the codpiece', '0')], 'KopOut': [('Yeah, how dare she stick up for herself.', '1')], 'xlxcx': [(\"At least it wasn't abortion\", '1')], 'Adama0001': [('We try hard with stick and fire', '0')], 'Kezhen': [('Geez, thanks for making me spit out my coffee...', '0')], 'DisabledDad': [('This one is so much better it leveled up', '0')], 'wallstreetclinton': [('Oh please, they are a complete nothingburrito!', '1')], 'Produceher': [('Because...', '0')], 'pyralisis': [(\"It's a metaphorical *physical* wall\", '1')], 'theTruus': [(\"So what's next Colin?\", '0')], 'ukulelej': [('\"Because the idea that America is a \"\"white country\"\" is bullshit.\"', '0')], 'ShyBiDude89': [('You do know that Bill Clinton was acquitted of the impeachment charges, right?', '0'), ('Yea, but MAGA so who cares!', '1'), ('Damn it, now he has to make a new name.', '1')], 'IrishJoe': [('Rumor is that Cruz is going to very soon.', '0')], 'jokerZwild': [('alrighty then....', '0'), ('He probably golfed like the 2nd late NK dictator', '0')], 'wraithtek': [('(Hecho en Mexico)', '0')], 'VROF': [('Yeah when this all shakes out I hope we never forget Jason Chaffetz unendorsing then re-endorsing Trump and Cruz telling everyone to vote their conscience and then phone banking for Trump', '0')], 'DankyTheChristmasPoo': [('\"AHahhahahaha don\\'t worry we\\'ll still foot your welfare while you remain unemployed \"\"because of what a horrible and dangerous precedent this sets\"\".\"', '0')], 'YvesAdeleHarlow': [(\"Innate bias doesn't exist on reddit.\", '1')], 'dominoid73': [('This is old.', '0')], 'MURICCA': [('\"\"\"Its close cuz its rigged\"\"\"', '0')], 'odinlowbane': [(\"If anyone believes this, we don't deserve any of our technology\", '0')], 'cyclopsrex': [('Nope, he should sit down and shut the fuck up.', '0')], 'JohnnyRandazzo': [(\"Difference is she hasn't been on the campaign trail for a while now.\", '0')], 'kutwijf': [('Ah.. most cities seem to.', '0')], 'Collective82': [(\"We don't discuss that blasphemy.\", '0')], 'MemoryLapse': [(\"That'll definitely get 'em on your side!\", '1')]}\n"
     ]
    }
   ],
   "source": [
    "print(dict(getUserDict()))"
   ]
  },
  {
   "cell_type": "code",
   "execution_count": null,
   "metadata": {},
   "outputs": [],
   "source": []
  }
 ],
 "metadata": {
  "kernelspec": {
   "display_name": "Python 3",
   "language": "python",
   "name": "python3"
  },
  "language_info": {
   "codemirror_mode": {
    "name": "ipython",
    "version": 3
   },
   "file_extension": ".py",
   "mimetype": "text/x-python",
   "name": "python",
   "nbconvert_exporter": "python",
   "pygments_lexer": "ipython3",
   "version": "3.6.2"
  }
 },
 "nbformat": 4,
 "nbformat_minor": 2
}
