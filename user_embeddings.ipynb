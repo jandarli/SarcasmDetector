{
 "cells": [
  {
   "cell_type": "code",
   "execution_count": 30,
   "metadata": {},
   "outputs": [],
   "source": [
    "import collections\n",
    "import tensorflow as tf\n",
    "from collections import namedtuple\n",
    "import pickle\n",
    "import numpy as np"
   ]
  },
  {
   "cell_type": "code",
   "execution_count": 31,
   "metadata": {},
   "outputs": [],
   "source": [
    "User2Vec = namedtuple('User2Vec', ['user_ids', 'optimizer', 'loss'])"
   ]
  },
  {
   "cell_type": "code",
   "execution_count": 54,
   "metadata": {},
   "outputs": [],
   "source": [
    "def build_model(sess, graph, embed_matrix_rows, n_users):\n",
    "\n",
    "    with graph.as_default():\n",
    "    # Ops and variables pinned to the CPU because of missing GPU implementation\n",
    "        with tf.device('/cpu:0'):\n",
    "            global_step = tf.Variable(0, trainable=False)\n",
    "            \n",
    "            user_ids = tf.placeholder(tf.int32, shape=[n_users])\n",
    "            print('user_ids: ', user_ids)\n",
    "            \n",
    "            embeddings = tf.Variable(tf.random_uniform([embed_matrix_rows, n_users], -1.0, 1.0))\n",
    "            print('embeddings: ', embeddings)\n",
    "            user_embeds = tf.nn.embedding_lookup(embeddings, user_ids)\n",
    "            print('user_embeds: ', user_embeds)\n",
    "            \n",
    "#             loss = tf.random_uniform(shape=None)\n",
    "\n",
    "        sum_loss = tf.Variable(tf.random_uniform([1]))\n",
    "        loss = tf.reduce_mean(sum_loss)\n",
    "        print(loss)\n",
    "\n",
    "        # Construct the SGD optimizer using a learning rate of 1.0.\n",
    "        optimizer = tf.train.GradientDescentOptimizer(.05).minimize(loss, global_step=global_step)\n",
    "\n",
    "        tf.global_variables_initializer().run()\n",
    "        print(\"Initialized\")\n",
    "\n",
    "    model = User2Vec(user_ids, optimizer, loss)\n",
    "\n",
    "    return model"
   ]
  },
  {
   "cell_type": "code",
   "execution_count": 55,
   "metadata": {},
   "outputs": [],
   "source": [
    "def train(sess, model, n_users):\n",
    "    \n",
    "    user_ids = np.arange(n_users)\n",
    "    max_num_steps = 10\n",
    "    \n",
    "    for step in range(max_num_steps):\n",
    "        feed_dict = {model.user_ids.name: user_ids}\n",
    "        \n",
    "        _, loss_val = sess.run([model.optimizer, model.loss], feed_dict=feed_dict)\n",
    "        \n",
    "    return 0"
   ]
  },
  {
   "cell_type": "code",
   "execution_count": 56,
   "metadata": {},
   "outputs": [
    {
     "name": "stdout",
     "output_type": "stream",
     "text": [
      "user_ids:  Tensor(\"Placeholder:0\", shape=(86,), dtype=int32, device=/device:CPU:0)\n",
      "embeddings:  <tf.Variable 'Variable_1:0' shape=(78, 86) dtype=float32_ref>\n",
      "user_embeds:  Tensor(\"embedding_lookup:0\", shape=(86, 86), dtype=float32, device=/device:CPU:0)\n",
      "Tensor(\"Mean:0\", shape=(), dtype=float32)\n",
      "Initialized\n"
     ]
    }
   ],
   "source": [
    "if __name__ == '__main__':\n",
    "    \n",
    "    # load pickled word embeddings\n",
    "    # because we want the number of users which we pickled here\n",
    "    embed_matrix, unigram_prob, wrd2idx, word_counter,n_users = pickle.load(open('train_embeddings.pkl', 'rb'))\n",
    "    \n",
    "    graph = tf.Graph()\n",
    "    with tf.Session(graph=graph) as sess:\n",
    "        \n",
    "        model = build_model(sess, graph, embed_matrix.shape[0], n_users)\n",
    "        \n",
    "        train(sess, model, n_users)\n",
    "    "
   ]
  }
 ],
 "metadata": {
  "kernelspec": {
   "display_name": "Python 3",
   "language": "python",
   "name": "python3"
  },
  "language_info": {
   "codemirror_mode": {
    "name": "ipython",
    "version": 3
   },
   "file_extension": ".py",
   "mimetype": "text/x-python",
   "name": "python",
   "nbconvert_exporter": "python",
   "pygments_lexer": "ipython3",
   "version": "3.5.2"
  }
 },
 "nbformat": 4,
 "nbformat_minor": 2
}
